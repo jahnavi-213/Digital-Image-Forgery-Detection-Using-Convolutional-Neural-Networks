{
  "cells": [
    {
      "cell_type": "code",
      "execution_count": null,
      "metadata": {
        "_cell_guid": "b1076dfc-b9ad-4769-8c92-a6c4dae69d19",
        "_uuid": "8f2839f25d086af736a60e9eeb907d3b93b6e0e5",
        "id": "s4gzhVCrmyOc"
      },
      "outputs": [],
      "source": [
        "import tensorflow as tf\n",
        "gpu_devices = tf.config.experimental.list_physical_devices('GPU')\n",
        "for device in gpu_devices: tf.config.experimental.set_memory_growth(device, True)\n"
      ]
    },
    {
      "cell_type": "code",
      "execution_count": 2,
      "metadata": {
        "id": "c42Qp8svmyOk"
      },
      "outputs": [],
      "source": [
        "import numpy as np\n",
        "import os\n",
        "import itertools\n",
        "import matplotlib.pyplot as plt\n",
        "import json\n",
        "import seaborn as sns\n",
        "\n",
        "%matplotlib inline\n",
        "from sklearn.model_selection import train_test_split\n",
        "from sklearn.metrics import confusion_matrix, classification_report\n",
        "from keras.models import Sequential, load_model\n",
        "from keras.layers import Dense, Flatten, Conv2D, MaxPool2D, Dropout, Activation, GlobalAveragePooling2D\n",
        "from tensorflow.keras.optimizers import Adam\n",
        "from keras.callbacks import EarlyStopping\n",
        "from PIL import Image, ImageChops, ImageEnhance\n",
        "from tqdm.notebook import tqdm\n",
        "from tensorflow import keras\n",
        "from keras.preprocessing.image import ImageDataGenerator\n"
      ]
    },
    {
      "cell_type": "code",
      "execution_count": 3,
      "metadata": {
        "_cell_guid": "79c7e3d0-c299-4dcb-8224-4455121ee9b0",
        "_uuid": "d629ff2d2480ee46fbb7e2d37f6b5fab8052498a",
        "id": "TZ_vNQ6qmyOn"
      },
      "outputs": [],
      "source": [
        "def convert_to_ela_image(path,quality):\n",
        "\n",
        "    original_image = Image.open(path).convert('RGB')\n",
        "\n",
        "    resaved_file_name = 'resaved_image.jpg'    \n",
        "    original_image.save(resaved_file_name,'JPEG',quality=quality)\n",
        "    resaved_image = Image.open(resaved_file_name)\n",
        "\n",
        "    ela_image = ImageChops.difference(original_image,resaved_image)\n",
        "    \n",
        "    extrema = ela_image.getextrema()\n",
        "    max_difference = max([pix[1] for pix in extrema])\n",
        "    if max_difference ==0:\n",
        "        max_difference = 1\n",
        "    scale = 255 / max_difference\n",
        "    \n",
        "    ela_image = ImageEnhance.Brightness(ela_image).enhance(scale)\n",
        "\n",
        "    return ela_image"
      ]
    },
    {
      "cell_type": "code",
      "execution_count": 4,
      "metadata": {
        "id": "Xwq3AWGUmyOp"
      },
      "outputs": [],
      "source": [
        "def prepare_image(image_path):\n",
        "    image_size = (128, 128)\n",
        "    return np.array(convert_to_ela_image(image_path, 90).resize(image_size)).flatten() / 255.0        "
      ]
    },
    {
      "cell_type": "code",
      "execution_count": 5,
      "metadata": {
        "id": "_PXFRoqrmyOq"
      },
      "outputs": [],
      "source": [
        "X = []\n",
        "Y = []"
      ]
    },
    {
      "cell_type": "code",
      "execution_count": 6,
      "metadata": {
        "colab": {
          "referenced_widgets": [
            "ae8c039ece4d4b7092edf043daad1423"
          ]
        },
        "id": "9RhuMyVjmyOr",
        "outputId": "52dcece4-147a-431c-cabd-7ac841dd660e"
      },
      "outputs": [
        {
          "data": {
            "application/json": {
              "ascii": false,
              "bar_format": null,
              "colour": null,
              "elapsed": 0.0009920597076416016,
              "initial": 0,
              "n": 0,
              "ncols": null,
              "nrows": null,
              "postfix": null,
              "prefix": "Processing Images : ",
              "rate": null,
              "total": 1389,
              "unit": "it",
              "unit_divisor": 1000,
              "unit_scale": false
            },
            "application/vnd.jupyter.widget-view+json": {
              "model_id": "0bfe54e7b6b3440e985cf6e59e156e0d",
              "version_major": 2,
              "version_minor": 0
            },
            "text/plain": [
              "Processing Images :   0%|          | 0/1389 [00:00<?, ?it/s]"
            ]
          },
          "metadata": {},
          "output_type": "display_data"
        },
        {
          "name": "stdout",
          "output_type": "stream",
          "text": [
            "Total images: 1338\n",
            "Total labels: 1338\n"
          ]
        }
      ],
      "source": [
        "\n",
        "path = '../Datasets/CASIA_FIDAC/Au/'      \n",
        "for filename in tqdm(os.listdir(path),desc=\"Processing Images : \"):\n",
        "    if filename.endswith('jpg') or filename.endswith('png') or filename.endswith('jpeg'):\n",
        "        try:\n",
        "            full_path = os.path.join(path, filename)\n",
        "            X.append(prepare_image(full_path))        \n",
        "            Y.append(1)     \n",
        "        except:\n",
        "            pass\n",
        "\n",
        "print(f'Total images: {len(X)}\\nTotal labels: {len(Y)}')"
      ]
    },
    {
      "cell_type": "code",
      "execution_count": 7,
      "metadata": {
        "colab": {
          "referenced_widgets": [
            "315fdae9fdd5436dbc0d9f59bfe44fa2"
          ]
        },
        "id": "X9IXi2MbmyOv",
        "outputId": "9a7dbeee-a966-4350-9b5e-956994641b7e"
      },
      "outputs": [
        {
          "data": {
            "application/json": {
              "ascii": false,
              "bar_format": null,
              "colour": null,
              "elapsed": 0.07890439033508301,
              "initial": 0,
              "n": 0,
              "ncols": null,
              "nrows": null,
              "postfix": null,
              "prefix": "Processing Images : ",
              "rate": null,
              "total": 597,
              "unit": "it",
              "unit_divisor": 1000,
              "unit_scale": false
            },
            "application/vnd.jupyter.widget-view+json": {
              "model_id": "4d218ef97b14450abf8623fff94abf50",
              "version_major": 2,
              "version_minor": 0
            },
            "text/plain": [
              "Processing Images :   0%|          | 0/597 [00:00<?, ?it/s]"
            ]
          },
          "metadata": {},
          "output_type": "display_data"
        },
        {
          "name": "stdout",
          "output_type": "stream",
          "text": [
            "Total images: 1935\n",
            "Total labels: 1935\n"
          ]
        }
      ],
      "source": [
        "\n",
        "path = '../Datasets/CASIA_FIDAC/Tp/'      \n",
        "i=0\n",
        "for filename in tqdm(os.listdir(path),desc=\"Processing Images : \"):\n",
        "        if filename.endswith('jpg') or filename.endswith('png') or filename.endswith('jpeg'):\n",
        "            i+=1\n",
        "            try:\n",
        "                full_path = os.path.join(path, filename)\n",
        "                X.append(prepare_image(full_path))        \n",
        "                Y.append(0)    \n",
        "            except:\n",
        "                pass\n",
        "\n",
        "   \n",
        "print(f'Total images: {len(X)}\\nTotal labels: {len(Y)}')"
      ]
    },
    {
      "cell_type": "code",
      "execution_count": 8,
      "metadata": {
        "id": "M-fMRTjcmyOy"
      },
      "outputs": [],
      "source": [
        "from sklearn.utils import shuffle\n",
        "\n"
      ]
    },
    {
      "cell_type": "code",
      "execution_count": 9,
      "metadata": {
        "id": "1LSshaZ-myOz"
      },
      "outputs": [],
      "source": [
        "X = np.array(X)\n",
        "Y = np.array(Y)\n",
        "X,Y= shuffle(X,Y)\n",
        "\n",
        "X = X.reshape(-1, 128, 128, 3)\n",
        "\n",
        "\n",
        "\n",
        "np.save('proposed_fidac_500_x.npy', X, allow_pickle=True)\n",
        "np.save('proposed_fidac_500_y.npy', Y, allow_pickle=True)\n"
      ]
    },
    {
      "cell_type": "code",
      "execution_count": 10,
      "metadata": {
        "id": "KG7QWFHUmyO1",
        "outputId": "4e1a5789-97a0-4de1-f0fe-342222c85ac6"
      },
      "outputs": [
        {
          "name": "stdout",
          "output_type": "stream",
          "text": [
            "(1935, 128, 128, 3) (1935,)\n"
          ]
        }
      ],
      "source": [
        "X = np.load('proposed_fidac_500_x.npy', allow_pickle=True)\n",
        "Y = np.load('proposed_fidac_500_y.npy', allow_pickle=True)\n",
        "\n",
        "print(np.shape(X),np.shape(Y))"
      ]
    },
    {
      "cell_type": "code",
      "execution_count": 11,
      "metadata": {
        "id": "bHWXf3IEmyO2",
        "outputId": "fe0095ca-948e-4eda-e912-b6ce887c746e"
      },
      "outputs": [
        {
          "name": "stdout",
          "output_type": "stream",
          "text": [
            "Training images: 1470 , Training labels: 1470\n",
            "Validation images: 368 , Validation labels: 368\n",
            "Test images: 97 , Test labels: 97\n"
          ]
        }
      ],
      "source": [
        "X_temp, X_test, Y_temp, Y_test = train_test_split(X, Y, test_size = 0.05, random_state=5)\n",
        "X_train, X_val, Y_train, Y_val = train_test_split(X_temp, Y_temp, test_size = 0.2, random_state=5)\n",
        "X = X.reshape(-1,1,1,1)\n",
        "\n",
        "print(f'Training images: {len(X_train)} , Training labels: {len(Y_train)}')\n",
        "print(f'Validation images: {len(X_val)} , Validation labels: {len(Y_val)}')\n",
        "print(f'Test images: {len(X_test)} , Test labels: {len(Y_test)}')"
      ]
    },
    {
      "cell_type": "code",
      "execution_count": 12,
      "metadata": {
        "id": "p5e9o9HQmyO3",
        "outputId": "61b0f6c4-ad21-48ac-db4a-9676f6deface"
      },
      "outputs": [
        {
          "name": "stdout",
          "output_type": "stream",
          "text": [
            "[1 1 0 1 0 0 0 1 1 1 0 1 1 1 1 1 0 1 1 0 0 0 1 1 0 1 1 0 1 0 0 1 1 1 1 1 1\n",
            " 1 0 0 1 1 0 1 0 0 1 1 1 1 1 0 0 1 1 1 1 0 1 0 1 1 1 1 1 1 0 1 1 1 1 0 1 1\n",
            " 0 1 0 1 1 1 0 0 1 0 1 1 0 1 1 0 1 1 0 0 1 1 1]\n"
          ]
        }
      ],
      "source": [
        "print(Y_test)"
      ]
    },
    {
      "cell_type": "code",
      "execution_count": 13,
      "metadata": {
        "id": "npihJQpTmyO4"
      },
      "outputs": [],
      "source": [
        "train_gen = ImageDataGenerator(\n",
        "    featurewise_center=False,\n",
        "    samplewise_center=False,\n",
        "    featurewise_std_normalization=False,\n",
        "    samplewise_std_normalization=False,\n",
        "    #zca_whitening=False,\n",
        "    rotation_range=30,\n",
        "    width_shift_range=0.1,\n",
        "    height_shift_range=0.1,\n",
        "    zoom_range=0.2,\n",
        "    horizontal_flip=True,\n",
        "    vertical_flip=False,\n",
        ")\n",
        "test_gen =  ImageDataGenerator()\n",
        "\n",
        "train_gen.fit(X_train)\n",
        "test_gen.fit(X_val)\n",
        "\n",
        "augmented_data = []\n"
      ]
    },
    {
      "cell_type": "code",
      "execution_count": 14,
      "metadata": {
        "id": "ObGHRW7DmyO5"
      },
      "outputs": [],
      "source": [
        "def build_model():\n",
        "    model = Sequential()\n",
        "    model.add(Conv2D(32, (5,5), activation = 'relu', input_shape = (128, 128, 3)))\n",
        "    model.add(MaxPool2D(2, 2))\n",
        "    model.add(Conv2D(64, (3,3), activation = 'relu'))\n",
        "    model.add(MaxPool2D(2, 2))\n",
        "    model.add(Conv2D(128, (3,3), activation = 'relu'))\n",
        "    model.add(Conv2D(128, (3,3), activation = 'relu'))\n",
        "    model.add(MaxPool2D(2, 2))\n",
        "    model.add(Conv2D(256, (3,3), activation = 'relu'))\n",
        "    model.add(Conv2D(256, (3,3), activation = 'relu', padding = \"SAME\"))\n",
        "    model.add(Flatten())\n",
        "    model.add(Dense(64, activation = 'relu'))\n",
        "    model.add(Dropout(0.4))\n",
        "    model.add(Dense(128, activation = 'relu'))\n",
        "    model.add(Dropout(0.4))\n",
        "    model.add(Dense(1, activation = 'sigmoid'))\n",
        "    return model"
      ]
    },
    {
      "cell_type": "code",
      "execution_count": 15,
      "metadata": {
        "id": "eWuKkUVNmyO6",
        "outputId": "dc63e86b-16f8-432a-f818-cee9ba218773"
      },
      "outputs": [
        {
          "name": "stdout",
          "output_type": "stream",
          "text": [
            "Model: \"sequential\"\n",
            "_________________________________________________________________\n",
            "Layer (type)                 Output Shape              Param #   \n",
            "=================================================================\n",
            "conv2d (Conv2D)              (None, 124, 124, 32)      2432      \n",
            "_________________________________________________________________\n",
            "max_pooling2d (MaxPooling2D) (None, 62, 62, 32)        0         \n",
            "_________________________________________________________________\n",
            "conv2d_1 (Conv2D)            (None, 60, 60, 64)        18496     \n",
            "_________________________________________________________________\n",
            "max_pooling2d_1 (MaxPooling2 (None, 30, 30, 64)        0         \n",
            "_________________________________________________________________\n",
            "conv2d_2 (Conv2D)            (None, 28, 28, 128)       73856     \n",
            "_________________________________________________________________\n",
            "conv2d_3 (Conv2D)            (None, 26, 26, 128)       147584    \n",
            "_________________________________________________________________\n",
            "max_pooling2d_2 (MaxPooling2 (None, 13, 13, 128)       0         \n",
            "_________________________________________________________________\n",
            "conv2d_4 (Conv2D)            (None, 11, 11, 256)       295168    \n",
            "_________________________________________________________________\n",
            "conv2d_5 (Conv2D)            (None, 11, 11, 256)       590080    \n",
            "_________________________________________________________________\n",
            "flatten (Flatten)            (None, 30976)             0         \n",
            "_________________________________________________________________\n",
            "dense (Dense)                (None, 64)                1982528   \n",
            "_________________________________________________________________\n",
            "dropout (Dropout)            (None, 64)                0         \n",
            "_________________________________________________________________\n",
            "dense_1 (Dense)              (None, 128)               8320      \n",
            "_________________________________________________________________\n",
            "dropout_1 (Dropout)          (None, 128)               0         \n",
            "_________________________________________________________________\n",
            "dense_2 (Dense)              (None, 1)                 129       \n",
            "=================================================================\n",
            "Total params: 3,118,593\n",
            "Trainable params: 3,118,593\n",
            "Non-trainable params: 0\n",
            "_________________________________________________________________\n"
          ]
        }
      ],
      "source": [
        "model = build_model()\n",
        "model.summary()"
      ]
    },
    {
      "cell_type": "code",
      "execution_count": 16,
      "metadata": {
        "id": "qqpT5C0PmyO7"
      },
      "outputs": [],
      "source": [
        "epochs = 50\n",
        "batch_size = 19\n"
      ]
    },
    {
      "cell_type": "code",
      "execution_count": 17,
      "metadata": {
        "id": "8qUtiFXumyO8"
      },
      "outputs": [],
      "source": [
        "init_lr = 1e-4  \n",
        "optimizer = Adam(learning_rate = init_lr, decay = init_lr/epochs) \n",
        "model.compile(optimizer = optimizer, loss = 'binary_crossentropy', metrics = ['accuracy'])"
      ]
    },
    {
      "cell_type": "code",
      "execution_count": 18,
      "metadata": {
        "id": "BHapgJeZmyO9"
      },
      "outputs": [],
      "source": [
        "early_stopping = EarlyStopping(monitor = 'val_accuracy',\n",
        "                               min_delta = 0,\n",
        "                               patience = 10,\n",
        "                               verbose = 0,\n",
        "                               mode = 'auto')"
      ]
    },
    {
      "cell_type": "code",
      "execution_count": 19,
      "metadata": {
        "id": "x1r0aG35myO9",
        "outputId": "54a5e761-6f78-4d55-aeda-b2e08be7f6ec",
        "scrolled": false
      },
      "outputs": [
        {
          "name": "stdout",
          "output_type": "stream",
          "text": [
            "Epoch 1/50\n",
            "78/78 [==============================] - 51s 633ms/step - loss: 0.6156 - accuracy: 0.6837 - val_loss: 0.5636 - val_accuracy: 0.6905\n",
            "Epoch 2/50\n",
            "78/78 [==============================] - 44s 562ms/step - loss: 0.5448 - accuracy: 0.7007 - val_loss: 0.4963 - val_accuracy: 0.7980\n",
            "Epoch 3/50\n",
            "78/78 [==============================] - 46s 595ms/step - loss: 0.4917 - accuracy: 0.7891 - val_loss: 0.4278 - val_accuracy: 0.8177\n",
            "Epoch 4/50\n",
            "78/78 [==============================] - 52s 669ms/step - loss: 0.4594 - accuracy: 0.8027 - val_loss: 0.4255 - val_accuracy: 0.8129\n",
            "Epoch 5/50\n",
            "78/78 [==============================] - 51s 649ms/step - loss: 0.4447 - accuracy: 0.8075 - val_loss: 0.4012 - val_accuracy: 0.8177\n",
            "Epoch 6/50\n",
            "78/78 [==============================] - 52s 674ms/step - loss: 0.4334 - accuracy: 0.8163 - val_loss: 0.4141 - val_accuracy: 0.8252\n",
            "Epoch 7/50\n",
            "78/78 [==============================] - 52s 661ms/step - loss: 0.4219 - accuracy: 0.8170 - val_loss: 0.3951 - val_accuracy: 0.8252\n",
            "Epoch 8/50\n",
            "78/78 [==============================] - 48s 615ms/step - loss: 0.4137 - accuracy: 0.8238 - val_loss: 0.3733 - val_accuracy: 0.8374\n",
            "Epoch 9/50\n",
            "78/78 [==============================] - 48s 615ms/step - loss: 0.4207 - accuracy: 0.8313 - val_loss: 0.3994 - val_accuracy: 0.8245\n",
            "Epoch 10/50\n",
            "78/78 [==============================] - 49s 627ms/step - loss: 0.4005 - accuracy: 0.8327 - val_loss: 0.3740 - val_accuracy: 0.8381\n",
            "Epoch 11/50\n",
            "78/78 [==============================] - 48s 613ms/step - loss: 0.3905 - accuracy: 0.8388 - val_loss: 0.3454 - val_accuracy: 0.8558\n",
            "Epoch 12/50\n",
            "78/78 [==============================] - 52s 672ms/step - loss: 0.3904 - accuracy: 0.8381 - val_loss: 0.3354 - val_accuracy: 0.8605\n",
            "Epoch 13/50\n",
            "78/78 [==============================] - 55s 704ms/step - loss: 0.3983 - accuracy: 0.8381 - val_loss: 0.3440 - val_accuracy: 0.8537\n",
            "Epoch 14/50\n",
            "78/78 [==============================] - 53s 681ms/step - loss: 0.3817 - accuracy: 0.8483 - val_loss: 0.3423 - val_accuracy: 0.8537\n",
            "Epoch 15/50\n",
            "78/78 [==============================] - 51s 657ms/step - loss: 0.3942 - accuracy: 0.8374 - val_loss: 0.4329 - val_accuracy: 0.8068\n",
            "Epoch 16/50\n",
            "78/78 [==============================] - 47s 610ms/step - loss: 0.3856 - accuracy: 0.8469 - val_loss: 0.3744 - val_accuracy: 0.8299\n",
            "Epoch 17/50\n",
            "78/78 [==============================] - 50s 637ms/step - loss: 0.3755 - accuracy: 0.8456 - val_loss: 0.3759 - val_accuracy: 0.8238\n",
            "Epoch 18/50\n",
            "78/78 [==============================] - 52s 675ms/step - loss: 0.3622 - accuracy: 0.8483 - val_loss: 0.3340 - val_accuracy: 0.8619\n",
            "Epoch 19/50\n",
            "78/78 [==============================] - 60s 766ms/step - loss: 0.3673 - accuracy: 0.8510 - val_loss: 0.3623 - val_accuracy: 0.8415\n",
            "Epoch 20/50\n",
            "78/78 [==============================] - 53s 678ms/step - loss: 0.3748 - accuracy: 0.8435 - val_loss: 0.3558 - val_accuracy: 0.8503\n",
            "Epoch 21/50\n",
            "78/78 [==============================] - 45s 576ms/step - loss: 0.3526 - accuracy: 0.8544 - val_loss: 0.3276 - val_accuracy: 0.8571\n",
            "Epoch 22/50\n",
            "78/78 [==============================] - 45s 581ms/step - loss: 0.3598 - accuracy: 0.8605 - val_loss: 0.3300 - val_accuracy: 0.8517\n",
            "Epoch 23/50\n",
            "78/78 [==============================] - 45s 576ms/step - loss: 0.3661 - accuracy: 0.8592 - val_loss: 0.3265 - val_accuracy: 0.8633\n",
            "Epoch 24/50\n",
            "78/78 [==============================] - 43s 558ms/step - loss: 0.3623 - accuracy: 0.8558 - val_loss: 0.3353 - val_accuracy: 0.8483\n",
            "Epoch 25/50\n",
            "78/78 [==============================] - 43s 556ms/step - loss: 0.3572 - accuracy: 0.8612 - val_loss: 0.3127 - val_accuracy: 0.8633\n",
            "Epoch 26/50\n",
            "78/78 [==============================] - 45s 571ms/step - loss: 0.3454 - accuracy: 0.8660 - val_loss: 0.2981 - val_accuracy: 0.8694\n",
            "Epoch 27/50\n",
            "78/78 [==============================] - 44s 559ms/step - loss: 0.3320 - accuracy: 0.8660 - val_loss: 0.3203 - val_accuracy: 0.8667\n",
            "Epoch 28/50\n",
            "78/78 [==============================] - 44s 565ms/step - loss: 0.3483 - accuracy: 0.8605 - val_loss: 0.2884 - val_accuracy: 0.8823\n",
            "Epoch 29/50\n",
            "78/78 [==============================] - 45s 573ms/step - loss: 0.3143 - accuracy: 0.8660 - val_loss: 0.2926 - val_accuracy: 0.8816\n",
            "Epoch 30/50\n",
            "78/78 [==============================] - 45s 580ms/step - loss: 0.3295 - accuracy: 0.8687 - val_loss: 0.3205 - val_accuracy: 0.8571\n",
            "Epoch 31/50\n",
            "78/78 [==============================] - 45s 575ms/step - loss: 0.3151 - accuracy: 0.8721 - val_loss: 0.3107 - val_accuracy: 0.8714\n",
            "Epoch 32/50\n",
            "78/78 [==============================] - 45s 574ms/step - loss: 0.3344 - accuracy: 0.8612 - val_loss: 0.2739 - val_accuracy: 0.8884\n",
            "Epoch 33/50\n",
            "78/78 [==============================] - 45s 579ms/step - loss: 0.3173 - accuracy: 0.8748 - val_loss: 0.2723 - val_accuracy: 0.8871\n",
            "Epoch 34/50\n",
            "78/78 [==============================] - 44s 571ms/step - loss: 0.3400 - accuracy: 0.8612 - val_loss: 0.2996 - val_accuracy: 0.8782\n",
            "Epoch 35/50\n",
            "78/78 [==============================] - 49s 629ms/step - loss: 0.2999 - accuracy: 0.8871 - val_loss: 0.2666 - val_accuracy: 0.8918\n",
            "Epoch 36/50\n",
            "78/78 [==============================] - 52s 671ms/step - loss: 0.3201 - accuracy: 0.8694 - val_loss: 0.2962 - val_accuracy: 0.8741\n",
            "Epoch 37/50\n",
            "78/78 [==============================] - 46s 587ms/step - loss: 0.3392 - accuracy: 0.8558 - val_loss: 0.2726 - val_accuracy: 0.8946\n",
            "Epoch 38/50\n",
            "78/78 [==============================] - 52s 666ms/step - loss: 0.2994 - accuracy: 0.8871 - val_loss: 0.2578 - val_accuracy: 0.8946\n",
            "Epoch 39/50\n",
            "78/78 [==============================] - 51s 659ms/step - loss: 0.2905 - accuracy: 0.8844 - val_loss: 0.3363 - val_accuracy: 0.8476\n",
            "Epoch 40/50\n",
            "78/78 [==============================] - 47s 599ms/step - loss: 0.3043 - accuracy: 0.8837 - val_loss: 0.2508 - val_accuracy: 0.8959\n",
            "Epoch 41/50\n",
            "78/78 [==============================] - 46s 595ms/step - loss: 0.3103 - accuracy: 0.8755 - val_loss: 0.2624 - val_accuracy: 0.8925\n",
            "Epoch 42/50\n",
            "78/78 [==============================] - 46s 590ms/step - loss: 0.2741 - accuracy: 0.8891 - val_loss: 0.2452 - val_accuracy: 0.8993\n",
            "Epoch 43/50\n",
            "78/78 [==============================] - 48s 614ms/step - loss: 0.3184 - accuracy: 0.8810 - val_loss: 0.2638 - val_accuracy: 0.8959\n",
            "Epoch 44/50\n",
            "78/78 [==============================] - 51s 659ms/step - loss: 0.2889 - accuracy: 0.8878 - val_loss: 0.2923 - val_accuracy: 0.8701\n",
            "Epoch 45/50\n",
            "78/78 [==============================] - 52s 666ms/step - loss: 0.2852 - accuracy: 0.8782 - val_loss: 0.2429 - val_accuracy: 0.9007\n",
            "Epoch 46/50\n",
            "78/78 [==============================] - 57s 728ms/step - loss: 0.2834 - accuracy: 0.8891 - val_loss: 0.2592 - val_accuracy: 0.8918\n",
            "Epoch 47/50\n",
            "78/78 [==============================] - 56s 721ms/step - loss: 0.2857 - accuracy: 0.8898 - val_loss: 0.2517 - val_accuracy: 0.8952\n",
            "Epoch 48/50\n",
            "78/78 [==============================] - 54s 696ms/step - loss: 0.2733 - accuracy: 0.9020 - val_loss: 0.2353 - val_accuracy: 0.9082\n",
            "Epoch 49/50\n",
            "78/78 [==============================] - 51s 649ms/step - loss: 0.2586 - accuracy: 0.9007 - val_loss: 0.2430 - val_accuracy: 0.9122\n",
            "Epoch 50/50\n",
            "78/78 [==============================] - 51s 660ms/step - loss: 0.2914 - accuracy: 0.8796 - val_loss: 0.2260 - val_accuracy: 0.9150\n"
          ]
        }
      ],
      "source": [
        "hist = model.fit(train_gen.flow(X_train, Y_train, batch_size=19),\n",
        "                 batch_size = batch_size,\n",
        "                 epochs = epochs,\n",
        "                 #steps_per_epoch = 14,\n",
        "                 validation_data = train_gen.flow(X_train, Y_train, batch_size=19))\n",
        "                 #callbacks = [early_stopping])"
      ]
    },
    {
      "cell_type": "code",
      "execution_count": 20,
      "metadata": {
        "id": "EblDL34BmyO_"
      },
      "outputs": [],
      "source": [
        "model.save('ela_casia.h5') \n",
        "\n",
        "history_dict = hist.history\n",
        "json.dump(history_dict, open('model_history', 'w'))"
      ]
    },
    {
      "cell_type": "code",
      "execution_count": 21,
      "metadata": {
        "id": "UNyIzyU7myO_",
        "outputId": "0a87fe8e-fa1f-41b2-93e9-2759340b15dd"
      },
      "outputs": [
        {
          "data": {
            "image/png": "[encoded data removed]",
            "text/plain": [
              "<Figure size 1500x500 with 2 Axes>"
            ]
          },
          "metadata": {},
          "output_type": "display_data"
        }
      ],
      "source": [
        "fig, ax = plt.subplots(1,2,figsize=(15,5))\n",
        "\n",
        "ax[0].plot(history_dict['loss'], color='b', label = \"Training loss\")\n",
        "ax[0].plot(history_dict['val_loss'], color='r', label = \"Validation loss\",axes =ax[0])\n",
        "ax[0].set_xlabel('Epochs',fontsize=16)\n",
        "ax[0].set_ylabel('Loss',fontsize=16)\n",
        "legend = ax[0].legend(loc='best', shadow=True)\n",
        "\n",
        "ax[1].plot(history_dict['accuracy'], color='b', label = \"Training accuracy\")\n",
        "ax[1].plot(history_dict['val_accuracy'], color='r',label = \"Validation accuracy\")\n",
        "ax[1].set_xlabel('Epochs',fontsize=16)\n",
        "ax[1].set_ylabel('Accuracy',fontsize=16)\n",
        "legend = ax[1].legend(loc='best', shadow=True)\n",
        "\n",
        "fig.suptitle('Metrics',fontsize=20);"
      ]
    },
    {
      "cell_type": "code",
      "execution_count": 22,
      "metadata": {
        "id": "ayz0Xv5jmyPA"
      },
      "outputs": [],
      "source": [
        "def plot_confusion_matrix(cf_matrix):\n",
        "  \n",
        "    group_counts = [\"{0:0.0f}\".format(value) for value in cf_matrix.flatten()]\n",
        "    group_percentages = [\"{0:.2%}\".format(value) for value in cf_matrix.flatten()/np.sum(cf_matrix)]\n",
        "\n",
        "    axes_labels=['Forged', 'Authentic']\n",
        "    labels = [f\"{v1}\\n{v2}\" for v1, v2 in zip(group_counts,group_percentages)]\n",
        "    labels = np.asarray(labels).reshape(2,2)\n",
        "    sns.heatmap(cf_matrix, annot=labels, fmt='',cmap=\"flare\" , xticklabels=axes_labels, yticklabels=axes_labels)\n",
        "\n",
        "    plot_xlabel = plt.xlabel('Predicted labels', fontsize = 13)\n",
        "    plot_ylabel = plt.ylabel('True labels', fontsize = 13)\n",
        "    plot_title = plt.title('Confusion Matrix', fontsize= 10,fontweight='bold')"
      ]
    },
    {
      "cell_type": "code",
      "execution_count": 23,
      "metadata": {
        "id": "PhnimHtlmyPB",
        "outputId": "212ed265-3152-4229-d7a9-1ba9af191ab6",
        "scrolled": false
      },
      "outputs": [
        {
          "data": {
            "image/png": "[encoded data removed]",
            "text/plain": [
              "<Figure size 640x480 with 2 Axes>"
            ]
          },
          "metadata": {},
          "output_type": "display_data"
        }
      ],
      "source": [
        "Y_pred = model.predict(X_val)              \n",
        "Y_pred_classes = np.round(Y_pred)           \n",
        "Y_true = Y_val                             \n",
        "\n",
        "confusion_mtx = confusion_matrix(Y_true, Y_pred_classes)     \n",
        "plot_confusion_matrix(confusion_mtx)                         \n"
      ]
    },
    {
      "cell_type": "code",
      "execution_count": 24,
      "metadata": {
        "id": "GmPtiN3-myPC",
        "outputId": "32f6cca4-1dc9-4471-805a-a9c3d3a3fc00"
      },
      "outputs": [
        {
          "name": "stdout",
          "output_type": "stream",
          "text": [
            "              precision    recall  f1-score   support\n",
            "\n",
            "           0       0.93      0.61      0.73       109\n",
            "           1       0.86      0.98      0.91       259\n",
            "\n",
            "    accuracy                           0.87       368\n",
            "   macro avg       0.89      0.79      0.82       368\n",
            "weighted avg       0.88      0.87      0.86       368\n",
            "\n"
          ]
        }
      ],
      "source": [
        "print(classification_report(Y_true, Y_pred_classes))"
      ]
    },
    {
      "cell_type": "code",
      "execution_count": 25,
      "metadata": {
        "id": "PLK2Jbw2myPD"
      },
      "outputs": [],
      "source": [
        "class_names = ['Forged', 'Authentic']"
      ]
    },
    {
      "cell_type": "code",
      "execution_count": 26,
      "metadata": {
        "colab": {
          "referenced_widgets": [
            "0e301abd13fb4081987503508c4ca3e2"
          ]
        },
        "id": "XaezWi_XmyPE",
        "outputId": "8b232adf-cdc1-4ea6-a46f-10fd349125ac",
        "scrolled": true
      },
      "outputs": [
        {
          "data": {
            "application/json": {
              "ascii": false,
              "bar_format": null,
              "colour": null,
              "elapsed": 0.023227214813232422,
              "initial": 0,
              "n": 0,
              "ncols": null,
              "nrows": null,
              "postfix": null,
              "prefix": "Processing Images : ",
              "rate": null,
              "total": 97,
              "unit": "it",
              "unit_divisor": 1000,
              "unit_scale": false
            },
            "application/vnd.jupyter.widget-view+json": {
              "model_id": "c8eb8e82201b49d88544ae2a78695255",
              "version_major": 2,
              "version_minor": 0
            },
            "text/plain": [
              "Processing Images :   0%|          | 0/97 [00:00<?, ?it/s]"
            ]
          },
          "metadata": {},
          "output_type": "display_data"
        },
        {
          "name": "stdout",
          "output_type": "stream",
          "text": [
            "Total test images: 97\n",
            "Correctly predicted images: 75\n",
            "Accuracy: 77.31958762886599 %\n"
          ]
        }
      ],
      "source": [
        "correct_test = 0\n",
        "total_test = 0  \n",
        "\n",
        "for index,image in enumerate(tqdm(X_test,desc=\"Processing Images : \")):\n",
        "    image = image.reshape(-1, 128, 128, 3)\n",
        "    y_pred = model.predict(image)\n",
        "    y_pred_class = np.round(y_pred)\n",
        "    total_test += 1\n",
        "    if y_pred_class == Y_test[index]: \n",
        "        correct_test += 1\n",
        "    \n",
        "print(f'Total test images: {total_test}\\nCorrectly predicted images: {correct_test}\\nAccuracy: {correct_test / total_test * 100.0} %')"
      ]
    },
    {
      "cell_type": "code",
      "execution_count": 27,
      "metadata": {
        "id": "V9vtdH38myPE"
      },
      "outputs": [],
      "source": [
        "from PIL import ImageFile\n",
        "\n",
        "ImageFile.LOAD_TRUNCATED_IMAGES = True"
      ]
    },
    {
      "cell_type": "code",
      "execution_count": 28,
      "metadata": {
        "id": "Lhe66TWYmyPF",
        "outputId": "aa85d390-ac36-4e42-a9c7-fdb8eaea1938"
      },
      "outputs": [
        {
          "name": "stdout",
          "output_type": "stream",
          "text": [
            "Class: Forged Confidence: 0.86\n",
            "Class: Forged Confidence: 0.00\n",
            "Class: Forged Confidence: 6.47\n",
            "Class: Forged Confidence: 18.38\n",
            "Class: Forged Confidence: 0.78\n",
            "Class: Forged Confidence: 34.04\n",
            "Class: Forged Confidence: 16.10\n",
            "Class: Forged Confidence: 0.46\n",
            "Class: Forged Confidence: 13.41\n",
            "Class: Forged Confidence: 48.36\n",
            "Class: Forged Confidence: 0.10\n",
            "Class: Forged Confidence: 1.77\n",
            "Class: Forged Confidence: 1.84\n",
            "Class: Forged Confidence: 6.95\n",
            "Class: Forged Confidence: 2.18\n",
            "Class: Forged Confidence: 27.34\n",
            "Class: Forged Confidence: 6.51\n",
            "Class: Forged Confidence: 2.43\n",
            "Class: Forged Confidence: 7.36\n",
            "Class: Forged Confidence: 16.88\n",
            "Class: Forged Confidence: 27.99\n",
            "Class: Forged Confidence: 0.08\n",
            "Class: Forged Confidence: 1.50\n",
            "Class: Forged Confidence: 0.35\n",
            "Class: Forged Confidence: 41.21\n",
            "Class: Forged Confidence: 23.86\n",
            "Class: Forged Confidence: 0.02\n",
            "Class: Forged Confidence: 27.91\n",
            "Class: Forged Confidence: 0.03\n",
            "Class: Forged Confidence: 0.03\n",
            "Class: Forged Confidence: 13.88\n",
            "Class: Forged Confidence: 0.00\n",
            "Class: Forged Confidence: 4.83\n",
            "Class: Forged Confidence: 10.27\n",
            "Class: Forged Confidence: 11.92\n",
            "Total: 50, Correct: 35, Acc: 70.0\n"
          ]
        }
      ],
      "source": [
        "fake_image = '../Datasets/TEST/Tp/'\n",
        "correct = 0\n",
        "total = 0\n",
        "for file_name in os.listdir(fake_image):\n",
        "    if file_name.endswith('jpg') or file_name.endswith('png'):\n",
        "        test_image_path = os.path.join(fake_image, file_name)\n",
        "        test_image = prepare_image(test_image_path)  \n",
        "        test_image=test_image.reshape(-1, 128, 128, 3)\n",
        "        y_pred = model.predict(test_image)\n",
        "        y_pred_class = round(y_pred[0][0])\n",
        "        total += 1\n",
        "        if y_pred_class == 0:\n",
        "            correct += 1\n",
        "            print(f'Class: {class_names[y_pred_class]} Confidence: {np.amax(y_pred) * 100:0.2f}')\n",
        "print(f'Total: {total}, Correct: {correct}, Acc: {correct / total * 100.0}')"
      ]
    },
    {
      "cell_type": "code",
      "execution_count": 29,
      "metadata": {
        "id": "kN40dfe8myPF",
        "outputId": "e9d92e66-cd73-495d-82b3-8fd0eaa94366"
      },
      "outputs": [
        {
          "name": "stdout",
          "output_type": "stream",
          "text": [
            "Class: Authentic Confidence: 51.90\n",
            "Class: Authentic Confidence: 85.07\n",
            "Class: Authentic Confidence: 99.89\n",
            "Class: Authentic Confidence: 99.97\n",
            "Class: Authentic Confidence: 99.47\n",
            "Class: Authentic Confidence: 100.00\n",
            "Class: Authentic Confidence: 99.91\n",
            "Class: Authentic Confidence: 99.93\n",
            "Class: Authentic Confidence: 100.00\n",
            "Class: Authentic Confidence: 99.97\n",
            "Class: Authentic Confidence: 100.00\n",
            "Class: Authentic Confidence: 99.88\n",
            "Class: Authentic Confidence: 99.65\n",
            "Class: Authentic Confidence: 89.73\n",
            "Class: Authentic Confidence: 98.66\n",
            "Class: Authentic Confidence: 98.24\n",
            "Class: Authentic Confidence: 96.40\n",
            "Class: Authentic Confidence: 100.00\n",
            "Class: Authentic Confidence: 99.92\n",
            "Class: Authentic Confidence: 97.70\n",
            "Class: Authentic Confidence: 97.64\n",
            "Class: Authentic Confidence: 98.44\n",
            "Class: Authentic Confidence: 99.96\n",
            "Class: Authentic Confidence: 99.92\n",
            "Class: Authentic Confidence: 99.99\n",
            "Class: Authentic Confidence: 99.84\n",
            "Class: Authentic Confidence: 100.00\n",
            "Class: Authentic Confidence: 99.98\n",
            "Class: Authentic Confidence: 99.96\n",
            "Class: Authentic Confidence: 99.94\n",
            "Class: Authentic Confidence: 100.00\n",
            "Class: Authentic Confidence: 100.00\n",
            "Class: Authentic Confidence: 100.00\n",
            "Class: Authentic Confidence: 100.00\n",
            "Class: Authentic Confidence: 100.00\n",
            "Class: Authentic Confidence: 100.00\n",
            "Class: Authentic Confidence: 97.45\n",
            "Class: Authentic Confidence: 99.98\n",
            "Class: Authentic Confidence: 99.82\n",
            "Class: Authentic Confidence: 99.89\n",
            "Total: 40, Correct: 40, Acc: 100.0\n"
          ]
        }
      ],
      "source": [
        "real_image = '../Datasets/Test/Au/'\n",
        "correct_r = 0\n",
        "total_r = 0\n",
        "for file_name in os.listdir(real_image):\n",
        "    if file_name.endswith('jpg') or file_name.endswith('png'):\n",
        "        test_image_path = os.path.join(real_image, file_name)\n",
        "        test_image = prepare_image(test_image_path)  \n",
        "        test_image=test_image.reshape(-1, 128, 128, 3) \n",
        "        y_pred = model.predict(test_image)\n",
        "        y_pred_class = round(y_pred[0][0])\n",
        "        total_r += 1\n",
        "        if y_pred_class == 1:\n",
        "            correct_r += 1\n",
        "            print(f'Class: {class_names[y_pred_class]} Confidence: {np.amax(y_pred) * 100:0.2f}')\n",
        "print(f'Total: {total_r}, Correct: {correct_r}, Acc: {correct_r / total_r * 100.0}')"
      ]
    },
    {
      "cell_type": "code",
      "execution_count": 30,
      "metadata": {
        "id": "tk2TyGgemyPG",
        "outputId": "077fb434-c236-4299-afc6-b3ad77d67dc1"
      },
      "outputs": [
        {
          "name": "stdout",
          "output_type": "stream",
          "text": [
            "Total: 90, Correct: 75, Acc: 83.33333333333334\n"
          ]
        }
      ],
      "source": [
        "correct += correct_r\n",
        "total += total_r\n",
        "#print(f'Total: {total_r}, Correct: {correct_r}, Acc: {correct_r / total_r * 100.0}')\n",
        "print(f'Total: {total}, Correct: {correct}, Acc: {correct / total * 100.0}')"
      ]
    },
    {
      "cell_type": "code",
      "execution_count": null,
      "metadata": {
        "id": "cvWhgwNOmyPH"
      },
      "outputs": [],
      "source": [
        "# test_image_path = '../casia2/test/1.JPG'    # test image path\n",
        "# test_image = prepare_image(test_image_path)\n",
        "# test_image = test_image.reshape(-1, 128, 128, 3)\n",
        "\n",
        "# y_pred = model.predict(test_image)\n",
        "# y_pred_class = int(round(y_pred[0][0]))\n",
        "\n",
        "# fig, ax = plt.subplots(1,2,figsize=(15,5)) \n",
        "\n",
        "# original_image = plt.imread(test_image_path) \n",
        "# ax[0].axis('off')\n",
        "# ax[0].imshow(original_image)\n",
        "# ax[0].set_title('Original Image')\n",
        "\n",
        "# ax[1].axis('off')\n",
        "# ax[1].imshow(convert_to_ela_image(test_image_path,90)) \n",
        "# ax[1].set_title('ELA Image')\n",
        "\n",
        "# print(f'Prediction: {class_names[y_pred_class]}')\n",
        "# if y_pred<=0.5:\n",
        "#     print(f'Confidence:  {(1-(y_pred[0][0])) * 100:0.2f}%')\n",
        "# else:\n",
        "#     print(f'Confidence: {(y_pred[0][0]) * 100:0.2f}%')\n",
        "# print('--------------------------------------------------------------------------------------------------------------')"
      ]
    },
    {
      "cell_type": "code",
      "execution_count": null,
      "metadata": {
        "colab": {
          "referenced_widgets": [
            "b4d272a4678c4e29981aab548981bde2"
          ]
        },
        "id": "GOjmQSJYmyPH",
        "outputId": "5033300e-ebe0-40d7-a713-f904b6140b0b"
      },
      "outputs": [
        {
          "data": {
            "application/vnd.jupyter.widget-view+json": {
              "model_id": "b4d272a4678c4e29981aab548981bde2",
              "version_major": 2,
              "version_minor": 0
            },
            "text/plain": [
              "Processing Images :   0%|          | 0/14 [00:00<?, ?it/s]"
            ]
          },
          "metadata": {},
          "output_type": "display_data"
        },
        {
          "name": "stdout",
          "output_type": "stream",
          "text": [
            "Total images: 14\n",
            "Authentic Images: 14\n",
            "Forged Images: 0\n"
          ]
        }
      ],
      "source": [
        "# test_folder_path = 'Datasets/FIDAC/Au/'        #dataset path\n",
        "# authentic,forged,total = 0,0,0\n",
        "\n",
        "# for filename in tqdm(os.listdir(test_folder_path),desc=\"Processing Images : \"):\n",
        "#     #print(filename)\n",
        "#     if filename.endswith('jpg') or filename.endswith('png') or filename.endswith('jpeg') or filename.endswith('JPG'):\n",
        "#         test_image_path = os.path.join(test_folder_path, filename)\n",
        "#         test_image = prepare_image(test_image_path)  \n",
        "#         test_image=test_image.reshape(-1, 128, 128, 3)\n",
        "#         #y_pred = model.predict(image)\n",
        "#         #y_pred_class = np.round(y_pred)\n",
        "        \n",
        "#         y_pred = model.predict(test_image)\n",
        "#         y_pred_class = round(y_pred[0][0])\n",
        "\n",
        "#         total += 1\n",
        "#         #print('---',y_pred_class)\n",
        "#         if y_pred_class == 0:\n",
        "#             forged += 1\n",
        "#         else:\n",
        "#             authentic +=1\n",
        "\n",
        "# print(f'Total images: {total}\\nAuthentic Images: {authentic}\\nForged Images: {forged}')"
      ]
    }
  ],
  "metadata": {
    "colab": {
      "provenance": []
    },
    "kernelspec": {
      "display_name": "Python 3",
      "language": "python",
      "name": "python3"
    },
    "language_info": {
      "codemirror_mode": {
        "name": "ipython",
        "version": 3
      },
      "file_extension": ".py",
      "mimetype": "text/x-python",
      "name": "python",
      "nbconvert_exporter": "python",
      "pygments_lexer": "ipython3",
      "version": "3.9.18"
    }
  },
  "nbformat": 4,
  "nbformat_minor": 0
}
